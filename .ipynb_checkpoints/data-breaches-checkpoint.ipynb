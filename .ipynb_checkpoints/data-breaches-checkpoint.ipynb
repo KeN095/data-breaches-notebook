{
 "cells": [
  {
   "cell_type": "markdown",
   "id": "bd430ff1",
   "metadata": {},
   "source": [
    "# Data breaches analysis"
   ]
  },
  {
   "cell_type": "markdown",
   "id": "058815e9",
   "metadata": {},
   "source": [
    "## Dependencies"
   ]
  },
  {
   "cell_type": "code",
   "execution_count": 12,
   "id": "f7b9b330",
   "metadata": {
    "vscode": {
     "languageId": "python"
    }
   },
   "outputs": [],
   "source": [
    "#pip install numpy\n",
    "#pip install pandas\n",
    "#pip install matplotlib"
   ]
  },
  {
   "cell_type": "markdown",
   "id": "107647e8",
   "metadata": {},
   "source": [
    "## Imports"
   ]
  },
  {
   "cell_type": "code",
   "execution_count": 13,
   "id": "c397396b",
   "metadata": {},
   "outputs": [],
   "source": [
    "import pandas as pd\n",
    "from matplotlib import pyplot as plt\n",
    "import numpy as npy"
   ]
  },
  {
   "cell_type": "markdown",
   "id": "a4bdf91c",
   "metadata": {},
   "source": [
    "## Reading in data set"
   ]
  },
  {
   "cell_type": "code",
   "execution_count": 20,
   "id": "bc1ee086",
   "metadata": {},
   "outputs": [],
   "source": [
    "df = pd.read_csv(\"data_breaches.csv\", encoding=\"latin-1\")"
   ]
  },
  {
   "cell_type": "markdown",
   "id": "74a492e1",
   "metadata": {},
   "source": [
    "## Information about data set "
   ]
  },
  {
   "cell_type": "code",
   "execution_count": 21,
   "id": "832ed004",
   "metadata": {},
   "outputs": [
    {
     "name": "stdout",
     "output_type": "stream",
     "text": [
      "The dimensions for this dataset are (352, 7)\n",
      "\n",
      "The number of columns for this dataset are 7\n",
      "\n",
      "The number of rows for this dataset are 352\n",
      "\n",
      "The column headers for this data set consist of \n",
      "Index(['Index', 'Entity', 'Year', 'Records', 'Organization type', 'Method',\n",
      "       'Sources'],\n",
      "      dtype='object')\n"
     ]
    }
   ],
   "source": [
    "dimensions = npy.shape(df)\n",
    "numOfColumns = str(dimensions[1])\n",
    "numOfRows = str(dimensions[0])\n",
    "\n",
    "print(\"The dimensions for this dataset are \" + str(dimensions) + \"\\n\")\n",
    "print(\"The number of columns for this dataset are \" + str(numOfColumns) + \"\\n\")\n",
    "print(\"The number of rows for this dataset are \" + str(numOfRows) + \"\\n\")\n",
    "print(\"The column headers for this data set consist of \")\n",
    "print(df.columns)"
   ]
  }
 ],
 "metadata": {
  "kernelspec": {
   "display_name": "Python 3 (ipykernel)",
   "language": "python",
   "name": "python3"
  },
  "language_info": {
   "codemirror_mode": {
    "name": "ipython",
    "version": 3
   },
   "file_extension": ".py",
   "mimetype": "text/x-python",
   "name": "python",
   "nbconvert_exporter": "python",
   "pygments_lexer": "ipython3",
   "version": "3.11.0"
  }
 },
 "nbformat": 4,
 "nbformat_minor": 5
}
